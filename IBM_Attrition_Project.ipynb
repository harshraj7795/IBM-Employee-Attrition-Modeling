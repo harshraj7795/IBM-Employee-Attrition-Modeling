{
 "cells": [
  {
   "cell_type": "markdown",
   "metadata": {},
   "source": [
    "## IBM HR ANALYTICS EMPLOYEE ATTRITION MODELING\n",
    "\n",
    "IBM is an American MNC operating in around 170 countries with major business vertical as computing, software, and hardware.\n",
    "Attrition is a major risk to service-providing organizations where trained and experienced people are the assets of the company. The organization would like to identify the factors which influence the attrition of employees."
   ]
  },
  {
   "cell_type": "code",
   "execution_count": 21,
   "metadata": {},
   "outputs": [],
   "source": [
    "#import libraries\n",
    "import numpy as np\n",
    "import pandas as pd\n",
    "import seaborn as sns\n",
    "import matplotlib.pyplot as plt\n",
    "from matplotlib import style\n",
    "%matplotlib inline"
   ]
  },
  {
   "cell_type": "code",
   "execution_count": 22,
   "metadata": {},
   "outputs": [],
   "source": [
    "#load dataset\n",
    "attr_dat=pd.read_csv(r'C:\\Users\\PSingh\\DS with Python\\IBM Attrition Data.csv')"
   ]
  },
  {
   "cell_type": "code",
   "execution_count": 23,
   "metadata": {},
   "outputs": [
    {
     "data": {
      "text/html": [
       "<div>\n",
       "<style scoped>\n",
       "    .dataframe tbody tr th:only-of-type {\n",
       "        vertical-align: middle;\n",
       "    }\n",
       "\n",
       "    .dataframe tbody tr th {\n",
       "        vertical-align: top;\n",
       "    }\n",
       "\n",
       "    .dataframe thead th {\n",
       "        text-align: right;\n",
       "    }\n",
       "</style>\n",
       "<table border=\"1\" class=\"dataframe\">\n",
       "  <thead>\n",
       "    <tr style=\"text-align: right;\">\n",
       "      <th></th>\n",
       "      <th>Age</th>\n",
       "      <th>Attrition</th>\n",
       "      <th>Department</th>\n",
       "      <th>DistanceFromHome</th>\n",
       "      <th>Education</th>\n",
       "      <th>EducationField</th>\n",
       "      <th>EnvironmentSatisfaction</th>\n",
       "      <th>JobSatisfaction</th>\n",
       "      <th>MaritalStatus</th>\n",
       "      <th>MonthlyIncome</th>\n",
       "      <th>NumCompaniesWorked</th>\n",
       "      <th>WorkLifeBalance</th>\n",
       "      <th>YearsAtCompany</th>\n",
       "    </tr>\n",
       "  </thead>\n",
       "  <tbody>\n",
       "    <tr>\n",
       "      <th>0</th>\n",
       "      <td>41</td>\n",
       "      <td>Yes</td>\n",
       "      <td>Sales</td>\n",
       "      <td>1</td>\n",
       "      <td>2</td>\n",
       "      <td>Life Sciences</td>\n",
       "      <td>2</td>\n",
       "      <td>4</td>\n",
       "      <td>Single</td>\n",
       "      <td>5993</td>\n",
       "      <td>8</td>\n",
       "      <td>1</td>\n",
       "      <td>6</td>\n",
       "    </tr>\n",
       "    <tr>\n",
       "      <th>1</th>\n",
       "      <td>49</td>\n",
       "      <td>No</td>\n",
       "      <td>Research &amp; Development</td>\n",
       "      <td>8</td>\n",
       "      <td>1</td>\n",
       "      <td>Life Sciences</td>\n",
       "      <td>3</td>\n",
       "      <td>2</td>\n",
       "      <td>Married</td>\n",
       "      <td>5130</td>\n",
       "      <td>1</td>\n",
       "      <td>3</td>\n",
       "      <td>10</td>\n",
       "    </tr>\n",
       "    <tr>\n",
       "      <th>2</th>\n",
       "      <td>37</td>\n",
       "      <td>Yes</td>\n",
       "      <td>Research &amp; Development</td>\n",
       "      <td>2</td>\n",
       "      <td>2</td>\n",
       "      <td>Other</td>\n",
       "      <td>4</td>\n",
       "      <td>3</td>\n",
       "      <td>Single</td>\n",
       "      <td>2090</td>\n",
       "      <td>6</td>\n",
       "      <td>3</td>\n",
       "      <td>0</td>\n",
       "    </tr>\n",
       "    <tr>\n",
       "      <th>3</th>\n",
       "      <td>33</td>\n",
       "      <td>No</td>\n",
       "      <td>Research &amp; Development</td>\n",
       "      <td>3</td>\n",
       "      <td>4</td>\n",
       "      <td>Life Sciences</td>\n",
       "      <td>4</td>\n",
       "      <td>3</td>\n",
       "      <td>Married</td>\n",
       "      <td>2909</td>\n",
       "      <td>1</td>\n",
       "      <td>3</td>\n",
       "      <td>8</td>\n",
       "    </tr>\n",
       "    <tr>\n",
       "      <th>4</th>\n",
       "      <td>27</td>\n",
       "      <td>No</td>\n",
       "      <td>Research &amp; Development</td>\n",
       "      <td>2</td>\n",
       "      <td>1</td>\n",
       "      <td>Medical</td>\n",
       "      <td>1</td>\n",
       "      <td>2</td>\n",
       "      <td>Married</td>\n",
       "      <td>3468</td>\n",
       "      <td>9</td>\n",
       "      <td>3</td>\n",
       "      <td>2</td>\n",
       "    </tr>\n",
       "  </tbody>\n",
       "</table>\n",
       "</div>"
      ],
      "text/plain": [
       "   Age Attrition              Department  DistanceFromHome  Education  \\\n",
       "0   41       Yes                   Sales                 1          2   \n",
       "1   49        No  Research & Development                 8          1   \n",
       "2   37       Yes  Research & Development                 2          2   \n",
       "3   33        No  Research & Development                 3          4   \n",
       "4   27        No  Research & Development                 2          1   \n",
       "\n",
       "  EducationField  EnvironmentSatisfaction  JobSatisfaction MaritalStatus  \\\n",
       "0  Life Sciences                        2                4        Single   \n",
       "1  Life Sciences                        3                2       Married   \n",
       "2          Other                        4                3        Single   \n",
       "3  Life Sciences                        4                3       Married   \n",
       "4        Medical                        1                2       Married   \n",
       "\n",
       "   MonthlyIncome  NumCompaniesWorked  WorkLifeBalance  YearsAtCompany  \n",
       "0           5993                   8                1               6  \n",
       "1           5130                   1                3              10  \n",
       "2           2090                   6                3               0  \n",
       "3           2909                   1                3               8  \n",
       "4           3468                   9                3               2  "
      ]
     },
     "execution_count": 23,
     "metadata": {},
     "output_type": "execute_result"
    }
   ],
   "source": [
    "#view top 5 rows\n",
    "attr_dat.head()"
   ]
  },
  {
   "cell_type": "code",
   "execution_count": 24,
   "metadata": {},
   "outputs": [
    {
     "name": "stdout",
     "output_type": "stream",
     "text": [
      "['Age' 'Attrition' 'Department' 'DistanceFromHome' 'Education'\n",
      " 'EducationField' 'EnvironmentSatisfaction' 'JobSatisfaction'\n",
      " 'MaritalStatus' 'MonthlyIncome' 'NumCompaniesWorked' 'WorkLifeBalance'\n",
      " 'YearsAtCompany']\n"
     ]
    }
   ],
   "source": [
    "#columns of dataset\n",
    "print(attr_dat.columns.values)"
   ]
  },
  {
   "cell_type": "code",
   "execution_count": 25,
   "metadata": {},
   "outputs": [
    {
     "data": {
      "text/plain": [
       "(1470, 13)"
      ]
     },
     "execution_count": 25,
     "metadata": {},
     "output_type": "execute_result"
    }
   ],
   "source": [
    "#shape of the dataset\n",
    "attr_dat.shape"
   ]
  },
  {
   "cell_type": "code",
   "execution_count": 26,
   "metadata": {},
   "outputs": [
    {
     "data": {
      "image/png": "[encoded data removed]",
      "text/plain": [
       "<Figure size 1440x720 with 1 Axes>"
      ]
     },
     "metadata": {
      "needs_background": "light"
     },
     "output_type": "display_data"
    }
   ],
   "source": [
    "#age distribution of the employees in IBM\n",
    "plt.figure(figsize=(20,10))\n",
    "style.use('ggplot')\n",
    "plt.hist(attr_dat['Age'],bins=50,ec='white')\n",
    "plt.xlabel('Age')\n",
    "plt.ylabel('Number of Employees')\n",
    "plt.title('Age Distribution of Employees')\n",
    "plt.show()\n"
   ]
  },
  {
   "cell_type": "code",
   "execution_count": 27,
   "metadata": {},
   "outputs": [
    {
     "data": {
      "image/png": "[encoded data removed]",
      "text/plain": [
       "<Figure size 1080x576 with 1 Axes>"
      ]
     },
     "metadata": {},
     "output_type": "display_data"
    }
   ],
   "source": [
    "#explore attrition by age\n",
    "plt.figure(figsize=(15,8))\n",
    "style.use('ggplot')\n",
    "plt.scatter(attr_dat['Age'],attr_dat['Attrition'],c='g')\n",
    "plt.xlabel('Age')\n",
    "plt.ylabel('Attrition')\n",
    "plt.title('Age Distribution of Employees')\n",
    "plt.show()"
   ]
  },
  {
   "cell_type": "code",
   "execution_count": 28,
   "metadata": {},
   "outputs": [
    {
     "data": {
      "image/png": "[encoded data removed]",
      "text/plain": [
       "<Figure size 576x432 with 1 Axes>"
      ]
     },
     "metadata": {},
     "output_type": "display_data"
    }
   ],
   "source": [
    "#Explore data for left employees\n",
    "plt.figure(figsize=(8,6))\n",
    "style.use('ggplot')\n",
    "x=attr_dat['Attrition'].value_counts()\n",
    "plt.bar(x.index,height=x.values,color='b',alpha=0.6,width=0.25,align='center',bottom=0.5)\n",
    "plt.xlabel('Attrition')\n",
    "plt.ylabel('No. of Employees')\n",
    "plt.title('Attrition status of employees')\n",
    "plt.show()"
   ]
  },
  {
   "cell_type": "code",
   "execution_count": 29,
   "metadata": {},
   "outputs": [
    {
     "data": {
      "image/png": "[encoded data removed]",
      "text/plain": [
       "<Figure size 576x432 with 1 Axes>"
      ]
     },
     "metadata": {},
     "output_type": "display_data"
    }
   ],
   "source": [
    "#Distribution by education field\n",
    "plt.figure(figsize=(8,6))\n",
    "style.use('ggplot')\n",
    "ed_fld=attr_dat['EducationField'].value_counts()\n",
    "plt.bar(ed_fld.index,height=ed_fld.values,color='y',alpha=0.9,width=0.5,align='center')\n",
    "plt.xlabel('Education Field')\n",
    "plt.ylabel('No. of Employees')\n",
    "plt.title('Employees in Different Education Field')\n",
    "plt.show()"
   ]
  },
  {
   "cell_type": "code",
   "execution_count": 30,
   "metadata": {},
   "outputs": [
    {
     "data": {
      "image/png": "[encoded data removed]",
      "text/plain": [
       "<Figure size 576x432 with 1 Axes>"
      ]
     },
     "metadata": {},
     "output_type": "display_data"
    }
   ],
   "source": [
    "#employees with marital status\n",
    "plt.figure(figsize=(8,6))\n",
    "style.use('ggplot')\n",
    "mar_stat=attr_dat['MaritalStatus'].value_counts()\n",
    "plt.bar(mar_stat.index,height=mar_stat.values,color='g',alpha=0.6,width=0.5,align='center')\n",
    "plt.xlabel('Marital Status')\n",
    "plt.ylabel('No. of Employees')\n",
    "plt.title('Marital Status of Employees')\n",
    "plt.show()"
   ]
  },
  {
   "cell_type": "code",
   "execution_count": 31,
   "metadata": {},
   "outputs": [
    {
     "data": {
      "text/html": [
       "<div>\n",
       "<style scoped>\n",
       "    .dataframe tbody tr th:only-of-type {\n",
       "        vertical-align: middle;\n",
       "    }\n",
       "\n",
       "    .dataframe tbody tr th {\n",
       "        vertical-align: top;\n",
       "    }\n",
       "\n",
       "    .dataframe thead th {\n",
       "        text-align: right;\n",
       "    }\n",
       "</style>\n",
       "<table border=\"1\" class=\"dataframe\">\n",
       "  <thead>\n",
       "    <tr style=\"text-align: right;\">\n",
       "      <th></th>\n",
       "      <th>Age</th>\n",
       "      <th>Attrition</th>\n",
       "      <th>Department</th>\n",
       "      <th>DistanceFromHome</th>\n",
       "      <th>Education</th>\n",
       "      <th>EducationField</th>\n",
       "      <th>EnvironmentSatisfaction</th>\n",
       "      <th>JobSatisfaction</th>\n",
       "      <th>MaritalStatus</th>\n",
       "      <th>MonthlyIncome</th>\n",
       "      <th>NumCompaniesWorked</th>\n",
       "      <th>WorkLifeBalance</th>\n",
       "      <th>YearsAtCompany</th>\n",
       "    </tr>\n",
       "  </thead>\n",
       "  <tbody>\n",
       "    <tr>\n",
       "      <th>0</th>\n",
       "      <td>41</td>\n",
       "      <td>Yes</td>\n",
       "      <td>Sales</td>\n",
       "      <td>1</td>\n",
       "      <td>2</td>\n",
       "      <td>Life Sciences</td>\n",
       "      <td>2</td>\n",
       "      <td>4</td>\n",
       "      <td>Single</td>\n",
       "      <td>5993</td>\n",
       "      <td>8</td>\n",
       "      <td>1</td>\n",
       "      <td>6</td>\n",
       "    </tr>\n",
       "    <tr>\n",
       "      <th>1</th>\n",
       "      <td>49</td>\n",
       "      <td>No</td>\n",
       "      <td>Research &amp; Development</td>\n",
       "      <td>8</td>\n",
       "      <td>1</td>\n",
       "      <td>Life Sciences</td>\n",
       "      <td>3</td>\n",
       "      <td>2</td>\n",
       "      <td>Married</td>\n",
       "      <td>5130</td>\n",
       "      <td>1</td>\n",
       "      <td>3</td>\n",
       "      <td>10</td>\n",
       "    </tr>\n",
       "    <tr>\n",
       "      <th>2</th>\n",
       "      <td>37</td>\n",
       "      <td>Yes</td>\n",
       "      <td>Research &amp; Development</td>\n",
       "      <td>2</td>\n",
       "      <td>2</td>\n",
       "      <td>Other</td>\n",
       "      <td>4</td>\n",
       "      <td>3</td>\n",
       "      <td>Single</td>\n",
       "      <td>2090</td>\n",
       "      <td>6</td>\n",
       "      <td>3</td>\n",
       "      <td>0</td>\n",
       "    </tr>\n",
       "    <tr>\n",
       "      <th>3</th>\n",
       "      <td>33</td>\n",
       "      <td>No</td>\n",
       "      <td>Research &amp; Development</td>\n",
       "      <td>3</td>\n",
       "      <td>4</td>\n",
       "      <td>Life Sciences</td>\n",
       "      <td>4</td>\n",
       "      <td>3</td>\n",
       "      <td>Married</td>\n",
       "      <td>2909</td>\n",
       "      <td>1</td>\n",
       "      <td>3</td>\n",
       "      <td>8</td>\n",
       "    </tr>\n",
       "    <tr>\n",
       "      <th>4</th>\n",
       "      <td>27</td>\n",
       "      <td>No</td>\n",
       "      <td>Research &amp; Development</td>\n",
       "      <td>2</td>\n",
       "      <td>1</td>\n",
       "      <td>Medical</td>\n",
       "      <td>1</td>\n",
       "      <td>2</td>\n",
       "      <td>Married</td>\n",
       "      <td>3468</td>\n",
       "      <td>9</td>\n",
       "      <td>3</td>\n",
       "      <td>2</td>\n",
       "    </tr>\n",
       "  </tbody>\n",
       "</table>\n",
       "</div>"
      ],
      "text/plain": [
       "   Age Attrition              Department  DistanceFromHome  Education  \\\n",
       "0   41       Yes                   Sales                 1          2   \n",
       "1   49        No  Research & Development                 8          1   \n",
       "2   37       Yes  Research & Development                 2          2   \n",
       "3   33        No  Research & Development                 3          4   \n",
       "4   27        No  Research & Development                 2          1   \n",
       "\n",
       "  EducationField  EnvironmentSatisfaction  JobSatisfaction MaritalStatus  \\\n",
       "0  Life Sciences                        2                4        Single   \n",
       "1  Life Sciences                        3                2       Married   \n",
       "2          Other                        4                3        Single   \n",
       "3  Life Sciences                        4                3       Married   \n",
       "4        Medical                        1                2       Married   \n",
       "\n",
       "   MonthlyIncome  NumCompaniesWorked  WorkLifeBalance  YearsAtCompany  \n",
       "0           5993                   8                1               6  \n",
       "1           5130                   1                3              10  \n",
       "2           2090                   6                3               0  \n",
       "3           2909                   1                3               8  \n",
       "4           3468                   9                3               2  "
      ]
     },
     "execution_count": 31,
     "metadata": {},
     "output_type": "execute_result"
    }
   ],
   "source": [
    "#Data cleaning and format conversion\n",
    "attr_dat.head()"
   ]
  },
  {
   "cell_type": "code",
   "execution_count": 32,
   "metadata": {},
   "outputs": [],
   "source": [
    "#Attrition,EducationField,MaritialStatus and Department have string values that needs to be converted to numerical values\n",
    "attr_dat['Attrition'].replace('Yes',1,inplace=True)\n",
    "attr_dat['Attrition'].replace('No',0,inplace=True)"
   ]
  },
  {
   "cell_type": "code",
   "execution_count": 33,
   "metadata": {},
   "outputs": [
    {
     "data": {
      "text/plain": [
       "Research & Development    961\n",
       "Sales                     446\n",
       "Human Resources            63\n",
       "Name: Department, dtype: int64"
      ]
     },
     "execution_count": 33,
     "metadata": {},
     "output_type": "execute_result"
    }
   ],
   "source": [
    "attr_dat['Department'].value_counts()"
   ]
  },
  {
   "cell_type": "code",
   "execution_count": 34,
   "metadata": {},
   "outputs": [],
   "source": [
    "#creating labels for department\n",
    "attr_dat['Department'].replace('Research & Development',1,inplace=True)\n",
    "attr_dat['Department'].replace('Sales',2,inplace=True)\n",
    "attr_dat['Department'].replace('Human Resources',3,inplace=True)"
   ]
  },
  {
   "cell_type": "code",
   "execution_count": 35,
   "metadata": {},
   "outputs": [],
   "source": [
    "#creating labels for marital status\n",
    "attr_dat['MaritalStatus'].replace('Married',1,inplace=True)\n",
    "attr_dat['MaritalStatus'].replace('Single',2,inplace=True)\n",
    "attr_dat['MaritalStatus'].replace('Divorced',3,inplace=True)"
   ]
  },
  {
   "cell_type": "code",
   "execution_count": 36,
   "metadata": {},
   "outputs": [],
   "source": [
    "#creating labels for marital status\n",
    "attr_dat['EducationField'].replace('Life Sciences',1,inplace=True)\n",
    "attr_dat['EducationField'].replace('Medical',2,inplace=True)\n",
    "attr_dat['EducationField'].replace('Other',3,inplace=True)\n",
    "attr_dat['EducationField'].replace('Marketing',4,inplace=True)\n",
    "attr_dat['EducationField'].replace('Technical Degree',5,inplace=True)\n",
    "attr_dat['EducationField'].replace('Human Resources',6,inplace=True)"
   ]
  },
  {
   "cell_type": "code",
   "execution_count": 37,
   "metadata": {},
   "outputs": [
    {
     "data": {
      "text/html": [
       "<div>\n",
       "<style scoped>\n",
       "    .dataframe tbody tr th:only-of-type {\n",
       "        vertical-align: middle;\n",
       "    }\n",
       "\n",
       "    .dataframe tbody tr th {\n",
       "        vertical-align: top;\n",
       "    }\n",
       "\n",
       "    .dataframe thead th {\n",
       "        text-align: right;\n",
       "    }\n",
       "</style>\n",
       "<table border=\"1\" class=\"dataframe\">\n",
       "  <thead>\n",
       "    <tr style=\"text-align: right;\">\n",
       "      <th></th>\n",
       "      <th>Age</th>\n",
       "      <th>Attrition</th>\n",
       "      <th>Department</th>\n",
       "      <th>DistanceFromHome</th>\n",
       "      <th>Education</th>\n",
       "      <th>EducationField</th>\n",
       "      <th>EnvironmentSatisfaction</th>\n",
       "      <th>JobSatisfaction</th>\n",
       "      <th>MaritalStatus</th>\n",
       "      <th>MonthlyIncome</th>\n",
       "      <th>NumCompaniesWorked</th>\n",
       "      <th>WorkLifeBalance</th>\n",
       "      <th>YearsAtCompany</th>\n",
       "    </tr>\n",
       "  </thead>\n",
       "  <tbody>\n",
       "    <tr>\n",
       "      <th>0</th>\n",
       "      <td>41</td>\n",
       "      <td>1</td>\n",
       "      <td>2</td>\n",
       "      <td>1</td>\n",
       "      <td>2</td>\n",
       "      <td>1</td>\n",
       "      <td>2</td>\n",
       "      <td>4</td>\n",
       "      <td>2</td>\n",
       "      <td>5993</td>\n",
       "      <td>8</td>\n",
       "      <td>1</td>\n",
       "      <td>6</td>\n",
       "    </tr>\n",
       "    <tr>\n",
       "      <th>1</th>\n",
       "      <td>49</td>\n",
       "      <td>0</td>\n",
       "      <td>1</td>\n",
       "      <td>8</td>\n",
       "      <td>1</td>\n",
       "      <td>1</td>\n",
       "      <td>3</td>\n",
       "      <td>2</td>\n",
       "      <td>1</td>\n",
       "      <td>5130</td>\n",
       "      <td>1</td>\n",
       "      <td>3</td>\n",
       "      <td>10</td>\n",
       "    </tr>\n",
       "    <tr>\n",
       "      <th>2</th>\n",
       "      <td>37</td>\n",
       "      <td>1</td>\n",
       "      <td>1</td>\n",
       "      <td>2</td>\n",
       "      <td>2</td>\n",
       "      <td>3</td>\n",
       "      <td>4</td>\n",
       "      <td>3</td>\n",
       "      <td>2</td>\n",
       "      <td>2090</td>\n",
       "      <td>6</td>\n",
       "      <td>3</td>\n",
       "      <td>0</td>\n",
       "    </tr>\n",
       "    <tr>\n",
       "      <th>3</th>\n",
       "      <td>33</td>\n",
       "      <td>0</td>\n",
       "      <td>1</td>\n",
       "      <td>3</td>\n",
       "      <td>4</td>\n",
       "      <td>1</td>\n",
       "      <td>4</td>\n",
       "      <td>3</td>\n",
       "      <td>1</td>\n",
       "      <td>2909</td>\n",
       "      <td>1</td>\n",
       "      <td>3</td>\n",
       "      <td>8</td>\n",
       "    </tr>\n",
       "    <tr>\n",
       "      <th>4</th>\n",
       "      <td>27</td>\n",
       "      <td>0</td>\n",
       "      <td>1</td>\n",
       "      <td>2</td>\n",
       "      <td>1</td>\n",
       "      <td>2</td>\n",
       "      <td>1</td>\n",
       "      <td>2</td>\n",
       "      <td>1</td>\n",
       "      <td>3468</td>\n",
       "      <td>9</td>\n",
       "      <td>3</td>\n",
       "      <td>2</td>\n",
       "    </tr>\n",
       "  </tbody>\n",
       "</table>\n",
       "</div>"
      ],
      "text/plain": [
       "   Age  Attrition  Department  DistanceFromHome  Education  EducationField  \\\n",
       "0   41          1           2                 1          2               1   \n",
       "1   49          0           1                 8          1               1   \n",
       "2   37          1           1                 2          2               3   \n",
       "3   33          0           1                 3          4               1   \n",
       "4   27          0           1                 2          1               2   \n",
       "\n",
       "   EnvironmentSatisfaction  JobSatisfaction  MaritalStatus  MonthlyIncome  \\\n",
       "0                        2                4              2           5993   \n",
       "1                        3                2              1           5130   \n",
       "2                        4                3              2           2090   \n",
       "3                        4                3              1           2909   \n",
       "4                        1                2              1           3468   \n",
       "\n",
       "   NumCompaniesWorked  WorkLifeBalance  YearsAtCompany  \n",
       "0                   8                1               6  \n",
       "1                   1                3              10  \n",
       "2                   6                3               0  \n",
       "3                   1                3               8  \n",
       "4                   9                3               2  "
      ]
     },
     "execution_count": 37,
     "metadata": {},
     "output_type": "execute_result"
    }
   ],
   "source": [
    "attr_dat.head()"
   ]
  },
  {
   "cell_type": "code",
   "execution_count": 38,
   "metadata": {},
   "outputs": [
    {
     "data": {
      "text/plain": [
       "0    1233\n",
       "1     237\n",
       "Name: Attrition, dtype: int64"
      ]
     },
     "execution_count": 38,
     "metadata": {},
     "output_type": "execute_result"
    }
   ],
   "source": [
    "attr_dat['Attrition'].value_counts()"
   ]
  },
  {
   "cell_type": "code",
   "execution_count": 39,
   "metadata": {},
   "outputs": [
    {
     "data": {
      "text/plain": [
       "1    961\n",
       "2    446\n",
       "3     63\n",
       "Name: Department, dtype: int64"
      ]
     },
     "execution_count": 39,
     "metadata": {},
     "output_type": "execute_result"
    }
   ],
   "source": [
    "attr_dat['Department'].value_counts()"
   ]
  },
  {
   "cell_type": "code",
   "execution_count": 40,
   "metadata": {},
   "outputs": [
    {
     "data": {
      "text/plain": [
       "1    606\n",
       "2    464\n",
       "4    159\n",
       "5    132\n",
       "3     82\n",
       "6     27\n",
       "Name: EducationField, dtype: int64"
      ]
     },
     "execution_count": 40,
     "metadata": {},
     "output_type": "execute_result"
    }
   ],
   "source": [
    "attr_dat['EducationField'].value_counts()"
   ]
  },
  {
   "cell_type": "code",
   "execution_count": 41,
   "metadata": {},
   "outputs": [
    {
     "data": {
      "text/plain": [
       "1    673\n",
       "2    470\n",
       "3    327\n",
       "Name: MaritalStatus, dtype: int64"
      ]
     },
     "execution_count": 41,
     "metadata": {},
     "output_type": "execute_result"
    }
   ],
   "source": [
    "attr_dat['MaritalStatus'].value_counts()"
   ]
  },
  {
   "cell_type": "code",
   "execution_count": 42,
   "metadata": {},
   "outputs": [],
   "source": [
    "#Creating feature and target variables\n",
    "x_feat=attr_dat[['Age','Department','DistanceFromHome','Education',\n",
    " 'EducationField','EnvironmentSatisfaction','JobSatisfaction','MaritalStatus',\n",
    "                 'MonthlyIncome','NumCompaniesWorked','WorkLifeBalance','YearsAtCompany']]\n",
    "y_targ=attr_dat['Attrition']"
   ]
  },
  {
   "cell_type": "code",
   "execution_count": 43,
   "metadata": {},
   "outputs": [],
   "source": [
    "#creating training and test data sets\n",
    "from sklearn.model_selection import train_test_split\n",
    "xtrain,xtest,ytrain,ytest=train_test_split(x_feat,y_targ)"
   ]
  },
  {
   "cell_type": "code",
   "execution_count": 49,
   "metadata": {},
   "outputs": [
    {
     "data": {
      "text/plain": [
       "LogisticRegression(C=1.0, class_weight=None, dual=False, fit_intercept=True,\n",
       "                   intercept_scaling=1, l1_ratio=None, max_iter=2000,\n",
       "                   multi_class='auto', n_jobs=None, penalty='l2',\n",
       "                   random_state=None, solver='lbfgs', tol=0.0001, verbose=0,\n",
       "                   warm_start=False)"
      ]
     },
     "execution_count": 49,
     "metadata": {},
     "output_type": "execute_result"
    }
   ],
   "source": [
    "#Creating Logistic Regression Model and training the model\n",
    "from sklearn.linear_model import LogisticRegression\n",
    "log_reg=LogisticRegression(max_iter=2000)\n",
    "log_reg.fit(xtrain,ytrain)"
   ]
  },
  {
   "cell_type": "code",
   "execution_count": 51,
   "metadata": {},
   "outputs": [],
   "source": [
    "#predicting the output\n",
    "y_pred=log_reg.predict(xtest)"
   ]
  },
  {
   "cell_type": "code",
   "execution_count": 53,
   "metadata": {},
   "outputs": [
    {
     "name": "stdout",
     "output_type": "stream",
     "text": [
      "0.845108695652174\n"
     ]
    }
   ],
   "source": [
    "#Determining the evaluation matrices\n",
    "from sklearn import metrics\n",
    "accuracy=metrics.accuracy_score(ytest,y_pred)\n",
    "print(accuracy)"
   ]
  },
  {
   "cell_type": "code",
   "execution_count": 54,
   "metadata": {},
   "outputs": [
    {
     "data": {
      "text/plain": [
       "0.18614799742985652"
      ]
     },
     "execution_count": 54,
     "metadata": {},
     "output_type": "execute_result"
    }
   ],
   "source": [
    "metrics.average_precision_score(ytest,y_pred)"
   ]
  },
  {
   "cell_type": "code",
   "execution_count": 63,
   "metadata": {},
   "outputs": [
    {
     "data": {
      "text/plain": [
       "<sklearn.metrics._plot.confusion_matrix.ConfusionMatrixDisplay at 0x1e1c443d3c8>"
      ]
     },
     "execution_count": 63,
     "metadata": {},
     "output_type": "execute_result"
    },
    {
     "data": {
      "image/png": "[encoded data removed]",
      "text/plain": [
       "<Figure size 432x288 with 2 Axes>"
      ]
     },
     "metadata": {},
     "output_type": "display_data"
    }
   ],
   "source": [
    "#confusion matrix\n",
    "from sklearn.metrics import plot_confusion_matrix\n",
    "plot_confusion_matrix(log_reg,x_feat,y_targ,normalize='all')"
   ]
  },
  {
   "cell_type": "code",
   "execution_count": 60,
   "metadata": {},
   "outputs": [
    {
     "data": {
      "text/plain": [
       "array([[307,   3],\n",
       "       [ 54,   4]], dtype=int64)"
      ]
     },
     "execution_count": 60,
     "metadata": {},
     "output_type": "execute_result"
    }
   ],
   "source": [
    "from sklearn.metrics import confusion_matrix\n",
    "confusion_matrix(ytest,y_pred)"
   ]
  },
  {
   "cell_type": "code",
   "execution_count": 62,
   "metadata": {},
   "outputs": [
    {
     "name": "stdout",
     "output_type": "stream",
     "text": [
      "              precision    recall  f1-score   support\n",
      "\n",
      "           0       0.85      0.99      0.92       310\n",
      "           1       0.57      0.07      0.12        58\n",
      "\n",
      "    accuracy                           0.85       368\n",
      "   macro avg       0.71      0.53      0.52       368\n",
      "weighted avg       0.81      0.85      0.79       368\n",
      "\n"
     ]
    }
   ],
   "source": [
    "print (metrics.classification_report(ytest, y_pred))"
   ]
  },
  {
   "cell_type": "code",
   "execution_count": 64,
   "metadata": {},
   "outputs": [
    {
     "data": {
      "text/html": [
       "<div>\n",
       "<style scoped>\n",
       "    .dataframe tbody tr th:only-of-type {\n",
       "        vertical-align: middle;\n",
       "    }\n",
       "\n",
       "    .dataframe tbody tr th {\n",
       "        vertical-align: top;\n",
       "    }\n",
       "\n",
       "    .dataframe thead th {\n",
       "        text-align: right;\n",
       "    }\n",
       "</style>\n",
       "<table border=\"1\" class=\"dataframe\">\n",
       "  <thead>\n",
       "    <tr style=\"text-align: right;\">\n",
       "      <th></th>\n",
       "      <th>Age</th>\n",
       "      <th>Attrition</th>\n",
       "      <th>Department</th>\n",
       "      <th>DistanceFromHome</th>\n",
       "      <th>Education</th>\n",
       "      <th>EducationField</th>\n",
       "      <th>EnvironmentSatisfaction</th>\n",
       "      <th>JobSatisfaction</th>\n",
       "      <th>Marital Status</th>\n",
       "      <th>MonthlyIncome</th>\n",
       "      <th>NumCompaniesWorked</th>\n",
       "      <th>WorkLifeBalance</th>\n",
       "      <th>YearsAtCompany</th>\n",
       "    </tr>\n",
       "  </thead>\n",
       "  <tbody>\n",
       "    <tr>\n",
       "      <th>0</th>\n",
       "      <td>41</td>\n",
       "      <td>1</td>\n",
       "      <td>2</td>\n",
       "      <td>1</td>\n",
       "      <td>2</td>\n",
       "      <td>1</td>\n",
       "      <td>2</td>\n",
       "      <td>4</td>\n",
       "      <td>2</td>\n",
       "      <td>5993</td>\n",
       "      <td>8</td>\n",
       "      <td>1</td>\n",
       "      <td>6</td>\n",
       "    </tr>\n",
       "    <tr>\n",
       "      <th>1</th>\n",
       "      <td>49</td>\n",
       "      <td>0</td>\n",
       "      <td>1</td>\n",
       "      <td>8</td>\n",
       "      <td>1</td>\n",
       "      <td>1</td>\n",
       "      <td>3</td>\n",
       "      <td>2</td>\n",
       "      <td>1</td>\n",
       "      <td>5130</td>\n",
       "      <td>1</td>\n",
       "      <td>3</td>\n",
       "      <td>10</td>\n",
       "    </tr>\n",
       "    <tr>\n",
       "      <th>2</th>\n",
       "      <td>37</td>\n",
       "      <td>1</td>\n",
       "      <td>1</td>\n",
       "      <td>2</td>\n",
       "      <td>2</td>\n",
       "      <td>3</td>\n",
       "      <td>4</td>\n",
       "      <td>3</td>\n",
       "      <td>2</td>\n",
       "      <td>2090</td>\n",
       "      <td>6</td>\n",
       "      <td>3</td>\n",
       "      <td>0</td>\n",
       "    </tr>\n",
       "    <tr>\n",
       "      <th>3</th>\n",
       "      <td>33</td>\n",
       "      <td>0</td>\n",
       "      <td>1</td>\n",
       "      <td>3</td>\n",
       "      <td>4</td>\n",
       "      <td>1</td>\n",
       "      <td>4</td>\n",
       "      <td>3</td>\n",
       "      <td>1</td>\n",
       "      <td>2909</td>\n",
       "      <td>1</td>\n",
       "      <td>3</td>\n",
       "      <td>8</td>\n",
       "    </tr>\n",
       "    <tr>\n",
       "      <th>4</th>\n",
       "      <td>27</td>\n",
       "      <td>0</td>\n",
       "      <td>1</td>\n",
       "      <td>2</td>\n",
       "      <td>1</td>\n",
       "      <td>2</td>\n",
       "      <td>1</td>\n",
       "      <td>2</td>\n",
       "      <td>1</td>\n",
       "      <td>3468</td>\n",
       "      <td>9</td>\n",
       "      <td>3</td>\n",
       "      <td>2</td>\n",
       "    </tr>\n",
       "    <tr>\n",
       "      <th>...</th>\n",
       "      <td>...</td>\n",
       "      <td>...</td>\n",
       "      <td>...</td>\n",
       "      <td>...</td>\n",
       "      <td>...</td>\n",
       "      <td>...</td>\n",
       "      <td>...</td>\n",
       "      <td>...</td>\n",
       "      <td>...</td>\n",
       "      <td>...</td>\n",
       "      <td>...</td>\n",
       "      <td>...</td>\n",
       "      <td>...</td>\n",
       "    </tr>\n",
       "    <tr>\n",
       "      <th>1465</th>\n",
       "      <td>36</td>\n",
       "      <td>0</td>\n",
       "      <td>1</td>\n",
       "      <td>23</td>\n",
       "      <td>2</td>\n",
       "      <td>2</td>\n",
       "      <td>3</td>\n",
       "      <td>4</td>\n",
       "      <td>1</td>\n",
       "      <td>2571</td>\n",
       "      <td>4</td>\n",
       "      <td>3</td>\n",
       "      <td>5</td>\n",
       "    </tr>\n",
       "    <tr>\n",
       "      <th>1466</th>\n",
       "      <td>39</td>\n",
       "      <td>0</td>\n",
       "      <td>1</td>\n",
       "      <td>6</td>\n",
       "      <td>1</td>\n",
       "      <td>2</td>\n",
       "      <td>4</td>\n",
       "      <td>1</td>\n",
       "      <td>1</td>\n",
       "      <td>9991</td>\n",
       "      <td>4</td>\n",
       "      <td>3</td>\n",
       "      <td>7</td>\n",
       "    </tr>\n",
       "    <tr>\n",
       "      <th>1467</th>\n",
       "      <td>27</td>\n",
       "      <td>0</td>\n",
       "      <td>1</td>\n",
       "      <td>4</td>\n",
       "      <td>3</td>\n",
       "      <td>1</td>\n",
       "      <td>2</td>\n",
       "      <td>2</td>\n",
       "      <td>1</td>\n",
       "      <td>6142</td>\n",
       "      <td>1</td>\n",
       "      <td>3</td>\n",
       "      <td>6</td>\n",
       "    </tr>\n",
       "    <tr>\n",
       "      <th>1468</th>\n",
       "      <td>49</td>\n",
       "      <td>0</td>\n",
       "      <td>2</td>\n",
       "      <td>2</td>\n",
       "      <td>3</td>\n",
       "      <td>2</td>\n",
       "      <td>4</td>\n",
       "      <td>2</td>\n",
       "      <td>1</td>\n",
       "      <td>5390</td>\n",
       "      <td>2</td>\n",
       "      <td>2</td>\n",
       "      <td>9</td>\n",
       "    </tr>\n",
       "    <tr>\n",
       "      <th>1469</th>\n",
       "      <td>34</td>\n",
       "      <td>0</td>\n",
       "      <td>1</td>\n",
       "      <td>8</td>\n",
       "      <td>3</td>\n",
       "      <td>2</td>\n",
       "      <td>2</td>\n",
       "      <td>3</td>\n",
       "      <td>1</td>\n",
       "      <td>4404</td>\n",
       "      <td>2</td>\n",
       "      <td>4</td>\n",
       "      <td>4</td>\n",
       "    </tr>\n",
       "  </tbody>\n",
       "</table>\n",
       "<p>1470 rows × 13 columns</p>\n",
       "</div>"
      ],
      "text/plain": [
       "      Age  Attrition  Department  DistanceFromHome  Education  EducationField  \\\n",
       "0      41          1           2                 1          2               1   \n",
       "1      49          0           1                 8          1               1   \n",
       "2      37          1           1                 2          2               3   \n",
       "3      33          0           1                 3          4               1   \n",
       "4      27          0           1                 2          1               2   \n",
       "...   ...        ...         ...               ...        ...             ...   \n",
       "1465   36          0           1                23          2               2   \n",
       "1466   39          0           1                 6          1               2   \n",
       "1467   27          0           1                 4          3               1   \n",
       "1468   49          0           2                 2          3               2   \n",
       "1469   34          0           1                 8          3               2   \n",
       "\n",
       "      EnvironmentSatisfaction  JobSatisfaction  Marital Status  MonthlyIncome  \\\n",
       "0                           2                4               2           5993   \n",
       "1                           3                2               1           5130   \n",
       "2                           4                3               2           2090   \n",
       "3                           4                3               1           2909   \n",
       "4                           1                2               1           3468   \n",
       "...                       ...              ...             ...            ...   \n",
       "1465                        3                4               1           2571   \n",
       "1466                        4                1               1           9991   \n",
       "1467                        2                2               1           6142   \n",
       "1468                        4                2               1           5390   \n",
       "1469                        2                3               1           4404   \n",
       "\n",
       "      NumCompaniesWorked  WorkLifeBalance  YearsAtCompany  \n",
       "0                      8                1               6  \n",
       "1                      1                3              10  \n",
       "2                      6                3               0  \n",
       "3                      1                3               8  \n",
       "4                      9                3               2  \n",
       "...                  ...              ...             ...  \n",
       "1465                   4                3               5  \n",
       "1466                   4                3               7  \n",
       "1467                   1                3               6  \n",
       "1468                   2                2               9  \n",
       "1469                   2                4               4  \n",
       "\n",
       "[1470 rows x 13 columns]"
      ]
     },
     "execution_count": 64,
     "metadata": {},
     "output_type": "execute_result"
    }
   ],
   "source": [
    "#renaming\n",
    "attr_dat.rename(columns={'MaritalStatus':'Marital Status'})"
   ]
  },
  {
   "cell_type": "code",
   "execution_count": 68,
   "metadata": {},
   "outputs": [
    {
     "data": {
      "text/html": [
       "<div>\n",
       "<style scoped>\n",
       "    .dataframe tbody tr th:only-of-type {\n",
       "        vertical-align: middle;\n",
       "    }\n",
       "\n",
       "    .dataframe tbody tr th {\n",
       "        vertical-align: top;\n",
       "    }\n",
       "\n",
       "    .dataframe thead th {\n",
       "        text-align: right;\n",
       "    }\n",
       "</style>\n",
       "<table border=\"1\" class=\"dataframe\">\n",
       "  <thead>\n",
       "    <tr style=\"text-align: right;\">\n",
       "      <th></th>\n",
       "      <th>Age</th>\n",
       "      <th>Attrition</th>\n",
       "      <th>Department</th>\n",
       "      <th>DistanceFromHome</th>\n",
       "      <th>Education</th>\n",
       "      <th>EducationField</th>\n",
       "      <th>EnvironmentSatisfaction</th>\n",
       "      <th>JobSatisfaction</th>\n",
       "      <th>MaritalStatus</th>\n",
       "      <th>MonthlyIncome</th>\n",
       "      <th>NumCompaniesWorked</th>\n",
       "      <th>WorkLifeBalance</th>\n",
       "      <th>YearsAtCompany</th>\n",
       "    </tr>\n",
       "  </thead>\n",
       "  <tbody>\n",
       "    <tr>\n",
       "      <th>Age</th>\n",
       "      <td>1.000000</td>\n",
       "      <td>-0.159205</td>\n",
       "      <td>-0.007652</td>\n",
       "      <td>-0.001686</td>\n",
       "      <td>0.208034</td>\n",
       "      <td>-0.012036</td>\n",
       "      <td>0.010146</td>\n",
       "      <td>-0.004892</td>\n",
       "      <td>-0.035466</td>\n",
       "      <td>0.497855</td>\n",
       "      <td>0.299635</td>\n",
       "      <td>-0.021490</td>\n",
       "      <td>0.311309</td>\n",
       "    </tr>\n",
       "    <tr>\n",
       "      <th>Attrition</th>\n",
       "      <td>-0.159205</td>\n",
       "      <td>1.000000</td>\n",
       "      <td>0.077351</td>\n",
       "      <td>0.077924</td>\n",
       "      <td>-0.031373</td>\n",
       "      <td>0.089755</td>\n",
       "      <td>-0.103369</td>\n",
       "      <td>-0.103481</td>\n",
       "      <td>0.011195</td>\n",
       "      <td>-0.159840</td>\n",
       "      <td>0.043494</td>\n",
       "      <td>-0.063939</td>\n",
       "      <td>-0.134392</td>\n",
       "    </tr>\n",
       "    <tr>\n",
       "      <th>Department</th>\n",
       "      <td>-0.007652</td>\n",
       "      <td>0.077351</td>\n",
       "      <td>1.000000</td>\n",
       "      <td>0.002196</td>\n",
       "      <td>0.019636</td>\n",
       "      <td>0.327145</td>\n",
       "      <td>-0.026110</td>\n",
       "      <td>-0.006231</td>\n",
       "      <td>-0.030818</td>\n",
       "      <td>0.056573</td>\n",
       "      <td>-0.011261</td>\n",
       "      <td>0.075507</td>\n",
       "      <td>0.029752</td>\n",
       "    </tr>\n",
       "    <tr>\n",
       "      <th>DistanceFromHome</th>\n",
       "      <td>-0.001686</td>\n",
       "      <td>0.077924</td>\n",
       "      <td>0.002196</td>\n",
       "      <td>1.000000</td>\n",
       "      <td>0.021042</td>\n",
       "      <td>0.014662</td>\n",
       "      <td>-0.016075</td>\n",
       "      <td>-0.003669</td>\n",
       "      <td>-0.021916</td>\n",
       "      <td>-0.017014</td>\n",
       "      <td>-0.029251</td>\n",
       "      <td>-0.026556</td>\n",
       "      <td>0.009508</td>\n",
       "    </tr>\n",
       "    <tr>\n",
       "      <th>Education</th>\n",
       "      <td>0.208034</td>\n",
       "      <td>-0.031373</td>\n",
       "      <td>0.019636</td>\n",
       "      <td>0.021042</td>\n",
       "      <td>1.000000</td>\n",
       "      <td>0.027491</td>\n",
       "      <td>-0.027128</td>\n",
       "      <td>-0.011296</td>\n",
       "      <td>-0.000107</td>\n",
       "      <td>0.094961</td>\n",
       "      <td>0.126317</td>\n",
       "      <td>0.009819</td>\n",
       "      <td>0.069114</td>\n",
       "    </tr>\n",
       "    <tr>\n",
       "      <th>EducationField</th>\n",
       "      <td>-0.012036</td>\n",
       "      <td>0.089755</td>\n",
       "      <td>0.327145</td>\n",
       "      <td>0.014662</td>\n",
       "      <td>0.027491</td>\n",
       "      <td>1.000000</td>\n",
       "      <td>0.033743</td>\n",
       "      <td>-0.048512</td>\n",
       "      <td>-0.027563</td>\n",
       "      <td>0.004378</td>\n",
       "      <td>-0.004780</td>\n",
       "      <td>0.039308</td>\n",
       "      <td>-0.005427</td>\n",
       "    </tr>\n",
       "    <tr>\n",
       "      <th>EnvironmentSatisfaction</th>\n",
       "      <td>0.010146</td>\n",
       "      <td>-0.103369</td>\n",
       "      <td>-0.026110</td>\n",
       "      <td>-0.016075</td>\n",
       "      <td>-0.027128</td>\n",
       "      <td>0.033743</td>\n",
       "      <td>1.000000</td>\n",
       "      <td>-0.006784</td>\n",
       "      <td>0.022628</td>\n",
       "      <td>-0.006259</td>\n",
       "      <td>0.012594</td>\n",
       "      <td>0.027627</td>\n",
       "      <td>0.001458</td>\n",
       "    </tr>\n",
       "    <tr>\n",
       "      <th>JobSatisfaction</th>\n",
       "      <td>-0.004892</td>\n",
       "      <td>-0.103481</td>\n",
       "      <td>-0.006231</td>\n",
       "      <td>-0.003669</td>\n",
       "      <td>-0.011296</td>\n",
       "      <td>-0.048512</td>\n",
       "      <td>-0.006784</td>\n",
       "      <td>1.000000</td>\n",
       "      <td>-0.001494</td>\n",
       "      <td>-0.007157</td>\n",
       "      <td>-0.055699</td>\n",
       "      <td>-0.019459</td>\n",
       "      <td>-0.003803</td>\n",
       "    </tr>\n",
       "    <tr>\n",
       "      <th>MaritalStatus</th>\n",
       "      <td>-0.035466</td>\n",
       "      <td>0.011195</td>\n",
       "      <td>-0.030818</td>\n",
       "      <td>-0.021916</td>\n",
       "      <td>-0.000107</td>\n",
       "      <td>-0.027563</td>\n",
       "      <td>0.022628</td>\n",
       "      <td>-0.001494</td>\n",
       "      <td>1.000000</td>\n",
       "      <td>-0.018836</td>\n",
       "      <td>0.031652</td>\n",
       "      <td>-0.000751</td>\n",
       "      <td>-0.014779</td>\n",
       "    </tr>\n",
       "    <tr>\n",
       "      <th>MonthlyIncome</th>\n",
       "      <td>0.497855</td>\n",
       "      <td>-0.159840</td>\n",
       "      <td>0.056573</td>\n",
       "      <td>-0.017014</td>\n",
       "      <td>0.094961</td>\n",
       "      <td>0.004378</td>\n",
       "      <td>-0.006259</td>\n",
       "      <td>-0.007157</td>\n",
       "      <td>-0.018836</td>\n",
       "      <td>1.000000</td>\n",
       "      <td>0.149515</td>\n",
       "      <td>0.030683</td>\n",
       "      <td>0.514285</td>\n",
       "    </tr>\n",
       "    <tr>\n",
       "      <th>NumCompaniesWorked</th>\n",
       "      <td>0.299635</td>\n",
       "      <td>0.043494</td>\n",
       "      <td>-0.011261</td>\n",
       "      <td>-0.029251</td>\n",
       "      <td>0.126317</td>\n",
       "      <td>-0.004780</td>\n",
       "      <td>0.012594</td>\n",
       "      <td>-0.055699</td>\n",
       "      <td>0.031652</td>\n",
       "      <td>0.149515</td>\n",
       "      <td>1.000000</td>\n",
       "      <td>-0.008366</td>\n",
       "      <td>-0.118421</td>\n",
       "    </tr>\n",
       "    <tr>\n",
       "      <th>WorkLifeBalance</th>\n",
       "      <td>-0.021490</td>\n",
       "      <td>-0.063939</td>\n",
       "      <td>0.075507</td>\n",
       "      <td>-0.026556</td>\n",
       "      <td>0.009819</td>\n",
       "      <td>0.039308</td>\n",
       "      <td>0.027627</td>\n",
       "      <td>-0.019459</td>\n",
       "      <td>-0.000751</td>\n",
       "      <td>0.030683</td>\n",
       "      <td>-0.008366</td>\n",
       "      <td>1.000000</td>\n",
       "      <td>0.012089</td>\n",
       "    </tr>\n",
       "    <tr>\n",
       "      <th>YearsAtCompany</th>\n",
       "      <td>0.311309</td>\n",
       "      <td>-0.134392</td>\n",
       "      <td>0.029752</td>\n",
       "      <td>0.009508</td>\n",
       "      <td>0.069114</td>\n",
       "      <td>-0.005427</td>\n",
       "      <td>0.001458</td>\n",
       "      <td>-0.003803</td>\n",
       "      <td>-0.014779</td>\n",
       "      <td>0.514285</td>\n",
       "      <td>-0.118421</td>\n",
       "      <td>0.012089</td>\n",
       "      <td>1.000000</td>\n",
       "    </tr>\n",
       "  </tbody>\n",
       "</table>\n",
       "</div>"
      ],
      "text/plain": [
       "                              Age  Attrition  Department  DistanceFromHome  \\\n",
       "Age                      1.000000  -0.159205   -0.007652         -0.001686   \n",
       "Attrition               -0.159205   1.000000    0.077351          0.077924   \n",
       "Department              -0.007652   0.077351    1.000000          0.002196   \n",
       "DistanceFromHome        -0.001686   0.077924    0.002196          1.000000   \n",
       "Education                0.208034  -0.031373    0.019636          0.021042   \n",
       "EducationField          -0.012036   0.089755    0.327145          0.014662   \n",
       "EnvironmentSatisfaction  0.010146  -0.103369   -0.026110         -0.016075   \n",
       "JobSatisfaction         -0.004892  -0.103481   -0.006231         -0.003669   \n",
       "MaritalStatus           -0.035466   0.011195   -0.030818         -0.021916   \n",
       "MonthlyIncome            0.497855  -0.159840    0.056573         -0.017014   \n",
       "NumCompaniesWorked       0.299635   0.043494   -0.011261         -0.029251   \n",
       "WorkLifeBalance         -0.021490  -0.063939    0.075507         -0.026556   \n",
       "YearsAtCompany           0.311309  -0.134392    0.029752          0.009508   \n",
       "\n",
       "                         Education  EducationField  EnvironmentSatisfaction  \\\n",
       "Age                       0.208034       -0.012036                 0.010146   \n",
       "Attrition                -0.031373        0.089755                -0.103369   \n",
       "Department                0.019636        0.327145                -0.026110   \n",
       "DistanceFromHome          0.021042        0.014662                -0.016075   \n",
       "Education                 1.000000        0.027491                -0.027128   \n",
       "EducationField            0.027491        1.000000                 0.033743   \n",
       "EnvironmentSatisfaction  -0.027128        0.033743                 1.000000   \n",
       "JobSatisfaction          -0.011296       -0.048512                -0.006784   \n",
       "MaritalStatus            -0.000107       -0.027563                 0.022628   \n",
       "MonthlyIncome             0.094961        0.004378                -0.006259   \n",
       "NumCompaniesWorked        0.126317       -0.004780                 0.012594   \n",
       "WorkLifeBalance           0.009819        0.039308                 0.027627   \n",
       "YearsAtCompany            0.069114       -0.005427                 0.001458   \n",
       "\n",
       "                         JobSatisfaction  MaritalStatus  MonthlyIncome  \\\n",
       "Age                            -0.004892      -0.035466       0.497855   \n",
       "Attrition                      -0.103481       0.011195      -0.159840   \n",
       "Department                     -0.006231      -0.030818       0.056573   \n",
       "DistanceFromHome               -0.003669      -0.021916      -0.017014   \n",
       "Education                      -0.011296      -0.000107       0.094961   \n",
       "EducationField                 -0.048512      -0.027563       0.004378   \n",
       "EnvironmentSatisfaction        -0.006784       0.022628      -0.006259   \n",
       "JobSatisfaction                 1.000000      -0.001494      -0.007157   \n",
       "MaritalStatus                  -0.001494       1.000000      -0.018836   \n",
       "MonthlyIncome                  -0.007157      -0.018836       1.000000   \n",
       "NumCompaniesWorked             -0.055699       0.031652       0.149515   \n",
       "WorkLifeBalance                -0.019459      -0.000751       0.030683   \n",
       "YearsAtCompany                 -0.003803      -0.014779       0.514285   \n",
       "\n",
       "                         NumCompaniesWorked  WorkLifeBalance  YearsAtCompany  \n",
       "Age                                0.299635        -0.021490        0.311309  \n",
       "Attrition                          0.043494        -0.063939       -0.134392  \n",
       "Department                        -0.011261         0.075507        0.029752  \n",
       "DistanceFromHome                  -0.029251        -0.026556        0.009508  \n",
       "Education                          0.126317         0.009819        0.069114  \n",
       "EducationField                    -0.004780         0.039308       -0.005427  \n",
       "EnvironmentSatisfaction            0.012594         0.027627        0.001458  \n",
       "JobSatisfaction                   -0.055699        -0.019459       -0.003803  \n",
       "MaritalStatus                      0.031652        -0.000751       -0.014779  \n",
       "MonthlyIncome                      0.149515         0.030683        0.514285  \n",
       "NumCompaniesWorked                 1.000000        -0.008366       -0.118421  \n",
       "WorkLifeBalance                   -0.008366         1.000000        0.012089  \n",
       "YearsAtCompany                    -0.118421         0.012089        1.000000  "
      ]
     },
     "execution_count": 68,
     "metadata": {},
     "output_type": "execute_result"
    }
   ],
   "source": [
    "attr_dat.corr()"
   ]
  },
  {
   "cell_type": "code",
   "execution_count": 72,
   "metadata": {},
   "outputs": [
    {
     "data": {
      "text/plain": [
       "<matplotlib.axes._subplots.AxesSubplot at 0x1e1c4b6fc48>"
      ]
     },
     "execution_count": 72,
     "metadata": {},
     "output_type": "execute_result"
    },
    {
     "data": {
      "image/png": "[encoded data removed]",
      "text/plain": [
       "<Figure size 1080x576 with 2 Axes>"
      ]
     },
     "metadata": {},
     "output_type": "display_data"
    }
   ],
   "source": [
    "plt.figure(figsize=(15,8))\n",
    "sns.heatmap(attr_dat.corr(),annot=True)"
   ]
  },
  {
   "cell_type": "code",
   "execution_count": null,
   "metadata": {},
   "outputs": [],
   "source": []
  }
 ],
 "metadata": {
  "kernelspec": {
   "display_name": "Python 3",
   "language": "python",
   "name": "python3"
  },
  "language_info": {
   "codemirror_mode": {
    "name": "ipython",
    "version": 3
   },
   "file_extension": ".py",
   "mimetype": "text/x-python",
   "name": "python",
   "nbconvert_exporter": "python",
   "pygments_lexer": "ipython3",
   "version": "3.7.7"
  }
 },
 "nbformat": 4,
 "nbformat_minor": 4
}
